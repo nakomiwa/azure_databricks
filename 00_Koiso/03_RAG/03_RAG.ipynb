{
 "cells": [
  {
   "cell_type": "markdown",
   "metadata": {
    "application/vnd.databricks.v1+cell": {
     "cellMetadata": {},
     "inputWidgets": {},
     "nuid": "7b5cab40-d9ba-477a-a1cc-e1cf0c80ae03",
     "showTitle": false,
     "title": ""
    }
   },
   "source": [
    "# RAGの仕組み説明プログラム\n",
    "\n",
    "このノートブックでは、RAG（Retrieval-Augmented Generation）の仕組みを説明するためのプログラムを実装します。\n",
    "Wordファイルからドキュメントを読み込み、テキスト検索、ベクトル検索、ハイブリッド検索、セマンティックランキングの結果を比較し、\n",
    "OpenAI APIと連携してRAGの効果を示します。"
   ]
  },
  {
   "cell_type": "code",
   "execution_count": 0,
   "metadata": {
    "application/vnd.databricks.v1+cell": {
     "cellMetadata": {
      "byteLimit": 2048000,
      "rowLimit": 10000
     },
     "inputWidgets": {},
     "nuid": "a59bef29-4289-40ee-a0a0-4a755d8639cf",
     "showTitle": false,
     "title": ""
    }
   },
   "outputs": [],
   "source": [
    "%pip install docx2txt\n",
    "%pip install --upgrade langchain-community\n",
    "%pip install --upgrade langchain\n",
    "%pip install --upgrade sqlalchemy\n",
    "%pip install sqlalchemy==1.4.46\n",
    "%pip install --upgrade pgvector\n",
    "%pip install faiss-cpu\n",
    "%pip install rank_bm25"
   ]
  },
  {
   "cell_type": "code",
   "execution_count": 0,
   "metadata": {
    "application/vnd.databricks.v1+cell": {
     "cellMetadata": {
      "byteLimit": 2048000,
      "rowLimit": 10000
     },
     "inputWidgets": {},
     "nuid": "59dab27d-140f-452c-8834-05bb76892470",
     "showTitle": false,
     "title": ""
    }
   },
   "outputs": [],
   "source": [
    "# 必要なライブラリのインポート\n",
    "import os\n",
    "from langchain.embeddings import OpenAIEmbeddings\n",
    "from langchain.vectorstores import FAISS\n",
    "from langchain.text_splitter import RecursiveCharacterTextSplitter\n",
    "from langchain.document_loaders import Docx2txtLoader\n",
    "from langchain.retrievers import BM25Retriever\n",
    "from langchain.retrievers import MergerRetriever\n",
    "from langchain.retrievers import EnsembleRetriever\n",
    "from langchain.retrievers.document_compressors import LLMChainExtractor\n",
    "from langchain.chat_models import ChatOpenAI\n",
    "from langchain.prompts import ChatPromptTemplate\n",
    "from langchain.schema import HumanMessage, SystemMessage\n"
   ]
  },
  {
   "cell_type": "markdown",
   "metadata": {
    "application/vnd.databricks.v1+cell": {
     "cellMetadata": {},
     "inputWidgets": {},
     "nuid": "b9bed8ac-23f9-41cb-b10c-1788fde82f7e",
     "showTitle": false,
     "title": ""
    }
   },
   "source": [
    "## ベクトルストア作成\n",
    "\n",
    "RAGが検索するWordドキュメントを読み込み、ベクトル化します。"
   ]
  },
  {
   "cell_type": "code",
   "execution_count": 0,
   "metadata": {
    "application/vnd.databricks.v1+cell": {
     "cellMetadata": {
      "byteLimit": 2048000,
      "rowLimit": 10000
     },
     "inputWidgets": {},
     "nuid": "3f93394d-fd23-4946-aada-f131ac36fa24",
     "showTitle": false,
     "title": ""
    }
   },
   "outputs": [],
   "source": [
    "# Wordドキュメントの読み込み\n",
    "loader = Docx2txtLoader(\"./CloudTaskPro_マニュアル.docx\")\n",
    "documents = loader.load()\n",
    "\n",
    "# ドキュメントの分割\n",
    "text_splitter = RecursiveCharacterTextSplitter(chunk_size=256, chunk_overlap=51)  # 20%オーバーラップ\n",
    "texts = text_splitter.split_documents(documents)\n",
    "\n",
    "# ベクトル化\n",
    "embeddings = OpenAIEmbeddings()\n",
    "vectorstore = FAISS.from_documents(texts, embeddings)\n",
    "\n",
    "print(f\"ベクトル化されたドキュメント数: {len(texts)}\")"
   ]
  },
  {
   "cell_type": "markdown",
   "metadata": {
    "application/vnd.databricks.v1+cell": {
     "cellMetadata": {},
     "inputWidgets": {},
     "nuid": "25feba38-4e57-4793-8ab8-c1ed111cf89a",
     "showTitle": false,
     "title": ""
    }
   },
   "source": [
    "### チャンク分割した内容を確認"
   ]
  },
  {
   "cell_type": "code",
   "execution_count": 0,
   "metadata": {
    "application/vnd.databricks.v1+cell": {
     "cellMetadata": {
      "byteLimit": 2048000,
      "rowLimit": 10000
     },
     "inputWidgets": {},
     "nuid": "c31831fa-b74f-4465-9f8a-8606463c9e05",
     "showTitle": false,
     "title": ""
    }
   },
   "outputs": [],
   "source": [
    "texts[0]"
   ]
  },
  {
   "cell_type": "code",
   "execution_count": 0,
   "metadata": {
    "application/vnd.databricks.v1+cell": {
     "cellMetadata": {
      "byteLimit": 2048000,
      "rowLimit": 10000
     },
     "inputWidgets": {},
     "nuid": "2f69a90f-c466-430d-844d-f4e9155d243c",
     "showTitle": false,
     "title": ""
    }
   },
   "outputs": [],
   "source": [
    "texts[1]"
   ]
  },
  {
   "cell_type": "code",
   "execution_count": 0,
   "metadata": {
    "application/vnd.databricks.v1+cell": {
     "cellMetadata": {
      "byteLimit": 2048000,
      "rowLimit": 10000
     },
     "inputWidgets": {},
     "nuid": "cc4dd3b5-59b7-47e7-84a9-e79fe347e6bd",
     "showTitle": false,
     "title": ""
    }
   },
   "outputs": [],
   "source": [
    "texts[5]"
   ]
  },
  {
   "cell_type": "markdown",
   "metadata": {
    "application/vnd.databricks.v1+cell": {
     "cellMetadata": {},
     "inputWidgets": {},
     "nuid": "0f4ec1e7-558e-4487-8337-5e088d01dec0",
     "showTitle": false,
     "title": ""
    }
   },
   "source": [
    "## RAGによる検索\n",
    "\n",
    "テキスト検索、ベクトル検索、ハイブリッド検索、セマンティックランキングの結果を取得・表示します。"
   ]
  },
  {
   "cell_type": "markdown",
   "metadata": {
    "application/vnd.databricks.v1+cell": {
     "cellMetadata": {},
     "inputWidgets": {},
     "nuid": "2bde54f6-160a-469e-9489-3b0504d7d409",
     "showTitle": false,
     "title": ""
    }
   },
   "source": [
    "<table border=\"1\" cellpadding=\"10\">\n",
    "  <tr>\n",
    "    <th>検索手法</th>\n",
    "    <th>概要</th>\n",
    "    <th>特徴</th>\n",
    "    <th>利点</th>\n",
    "    <th>課題</th>\n",
    "  </tr>\n",
    "  <tr>\n",
    "    <td>テキスト検索</td>\n",
    "    <td>キーワードや文字列の一致に基づく検索</td>\n",
    "    <td>\n",
    "      - インデックスを使用<br>\n",
    "      - 正規表現やBoolean検索が可能\n",
    "    </td>\n",
    "    <td>\n",
    "      - 高速<br>\n",
    "      - 実装が比較的容易<br>\n",
    "      - 精確な一致に強い\n",
    "    </td>\n",
    "    <td>\n",
    "      - 同義語や関連語を扱えない<br>\n",
    "      - 文脈理解が限定的\n",
    "    </td>\n",
    "  </tr>\n",
    "  <tr>\n",
    "    <td>ベクトル検索</td>\n",
    "    <td>テキストをベクトル化し、類似度に基づいて検索</td>\n",
    "    <td>\n",
    "      - 単語/文書埋め込みを使用<br>\n",
    "      - コサイン類似度などで近さを計算\n",
    "    </td>\n",
    "    <td>\n",
    "      - 意味的類似性を捉えられる<br>\n",
    "      - 多言語対応が容易<br>\n",
    "      - 柔軟な検索が可能\n",
    "    </td>\n",
    "    <td>\n",
    "      - 計算コストが高い<br>\n",
    "      - モデルの質に依存<br>\n",
    "      - 説明可能性が低い\n",
    "    </td>\n",
    "  </tr>\n",
    "  <tr>\n",
    "    <td>ハイブリッド検索</td>\n",
    "    <td>テキスト検索とベクトル検索を組み合わせた手法</td>\n",
    "    <td>\n",
    "      - 両方の利点を活かす<br>\n",
    "      - 結果の統合方法が重要\n",
    "    </td>\n",
    "    <td>\n",
    "      - 高精度と高再現率の両立<br>\n",
    "      - 多様な検索ニーズに対応<br>\n",
    "      - パフォーマンスの向上\n",
    "    </td>\n",
    "    <td>\n",
    "      - システムが複雑化<br>\n",
    "      - チューニングが難しい<br>\n",
    "      - 計算リソースが必要\n",
    "    </td>\n",
    "  </tr>\n",
    "  <tr>\n",
    "    <td>セマンティックランキング</td>\n",
    "    <td>意味的関連性に基づいて検索結果を順位付け</td>\n",
    "    <td>\n",
    "      - NLPや機械学習を活用<br>\n",
    "      - コンテキスト理解を重視\n",
    "    </td>\n",
    "    <td>\n",
    "      - 高い関連性の結果を提供<br>\n",
    "      - ユーザー意図の理解が向上<br>\n",
    "      - 潜在的な関連性も考慮\n",
    "    </td>\n",
    "    <td>\n",
    "      - 計算コストが非常に高い<br>\n",
    "      - 大量の学習データが必要<br>\n",
    "      - モデルの解釈が難しい\n",
    "    </td>\n",
    "  </tr>\n",
    "</table>"
   ]
  },
  {
   "cell_type": "markdown",
   "metadata": {
    "application/vnd.databricks.v1+cell": {
     "cellMetadata": {},
     "inputWidgets": {},
     "nuid": "224828ac-ac53-4a3c-95f3-93933f7621aa",
     "showTitle": false,
     "title": ""
    }
   },
   "source": [
    "### 検索クエリ"
   ]
  },
  {
   "cell_type": "code",
   "execution_count": 0,
   "metadata": {
    "application/vnd.databricks.v1+cell": {
     "cellMetadata": {
      "byteLimit": 2048000,
      "rowLimit": 10000
     },
     "inputWidgets": {},
     "nuid": "92068e6d-fa3d-4611-ba56-5461a89bb5d9",
     "showTitle": false,
     "title": ""
    }
   },
   "outputs": [],
   "source": [
    "#query = \"新規タスクの作成\"\n",
    "#query = \"新しい作業の作り方教えて\"\n",
    "query = \"ガントチャートの使用法ではなく、作業の完了方法教えて\""
   ]
  },
  {
   "cell_type": "markdown",
   "metadata": {
    "application/vnd.databricks.v1+cell": {
     "cellMetadata": {},
     "inputWidgets": {},
     "nuid": "dafea9c7-1307-48c0-8399-4dc6f4ff6abf",
     "showTitle": false,
     "title": ""
    }
   },
   "source": [
    "### テキスト検索（BM25）\n"
   ]
  },
  {
   "cell_type": "code",
   "execution_count": 0,
   "metadata": {
    "application/vnd.databricks.v1+cell": {
     "cellMetadata": {
      "byteLimit": 2048000,
      "rowLimit": 10000
     },
     "inputWidgets": {},
     "nuid": "9fc12fa7-5bd7-46ac-86e7-5d2be6668522",
     "showTitle": false,
     "title": ""
    }
   },
   "outputs": [],
   "source": [
    "bm25_retriever = BM25Retriever.from_documents(texts)\n",
    "bm25_results = bm25_retriever.get_relevant_documents(query)\n",
    "\n",
    "print(\"------★1 テキスト検索の結果------\")\n",
    "for i, doc in enumerate(bm25_results[:3], 1):\n",
    "    print(f\"----------{i}位の結果----------\")\n",
    "    print(f\"{doc.page_content}\")\n"
   ]
  },
  {
   "cell_type": "markdown",
   "metadata": {
    "application/vnd.databricks.v1+cell": {
     "cellMetadata": {},
     "inputWidgets": {},
     "nuid": "aa2d4fa1-b3bd-45be-9edb-cddefcf2018e",
     "showTitle": false,
     "title": ""
    }
   },
   "source": [
    "### ベクトル検索"
   ]
  },
  {
   "cell_type": "code",
   "execution_count": 0,
   "metadata": {
    "application/vnd.databricks.v1+cell": {
     "cellMetadata": {
      "byteLimit": 2048000,
      "rowLimit": 10000
     },
     "inputWidgets": {},
     "nuid": "e865b699-1db1-4895-9126-02698c590ead",
     "showTitle": false,
     "title": ""
    }
   },
   "outputs": [],
   "source": [
    "vector_results = vectorstore.similarity_search(query)\n",
    "\n",
    "print(\"\\n------★2 ベクトル検索の結果------\")\n",
    "for i, doc in enumerate(vector_results[:3], 1):\n",
    "    print(f\"----------{i}位の結果----------\")\n",
    "    print(f\"{doc.page_content}\")"
   ]
  },
  {
   "cell_type": "markdown",
   "metadata": {
    "application/vnd.databricks.v1+cell": {
     "cellMetadata": {},
     "inputWidgets": {},
     "nuid": "a1eeb19b-64c9-4357-956c-cf65b3ef0c22",
     "showTitle": false,
     "title": ""
    }
   },
   "source": [
    "### ハイブリッド検索"
   ]
  },
  {
   "cell_type": "code",
   "execution_count": 0,
   "metadata": {
    "application/vnd.databricks.v1+cell": {
     "cellMetadata": {
      "byteLimit": 2048000,
      "rowLimit": 10000
     },
     "inputWidgets": {},
     "nuid": "0c0b7b86-23ce-4f54-b5b5-4120791c6772",
     "showTitle": false,
     "title": ""
    }
   },
   "outputs": [],
   "source": [
    "hybrid_retriever = EnsembleRetriever(\n",
    "    retrievers=[bm25_retriever, vectorstore.as_retriever()],\n",
    "    weights=[0.5, 0.5]\n",
    ")\n",
    "hybrid_results = hybrid_retriever.get_relevant_documents(query)\n",
    "\n",
    "print(\"\\n------★3 ハイブリッド検索の結果------\")\n",
    "for i, doc in enumerate(hybrid_results[:3], 1):\n",
    "    print(f\"----------{i}位の結果----------\")\n",
    "    print(f\"{doc.page_content}\")"
   ]
  },
  {
   "cell_type": "markdown",
   "metadata": {
    "application/vnd.databricks.v1+cell": {
     "cellMetadata": {},
     "inputWidgets": {},
     "nuid": "6ac8c9e7-ece1-4fa6-8362-f4051e71d9ae",
     "showTitle": false,
     "title": ""
    }
   },
   "source": [
    "### セマンティックランカーによる並べ替え"
   ]
  },
  {
   "cell_type": "code",
   "execution_count": 0,
   "metadata": {
    "application/vnd.databricks.v1+cell": {
     "cellMetadata": {
      "byteLimit": 2048000,
      "rowLimit": 10000
     },
     "inputWidgets": {},
     "nuid": "8e5b32fd-116a-448a-99cc-b73b9ac6e7fe",
     "showTitle": false,
     "title": ""
    }
   },
   "outputs": [],
   "source": [
    "llm = ChatOpenAI(temperature=0, model=\"gpt-4\")\n",
    "compressor = LLMChainExtractor.from_llm(llm)\n",
    "reranked_results = compressor.compress_documents(hybrid_results, query)\n",
    "\n",
    "print(\"\\n------★4 セマンティックランカーで並べ替えた結果------\")\n",
    "for i, doc in enumerate(reranked_results[:3], 1):\n",
    "    print(f\"----------{i}位の結果----------\")\n",
    "    print(f\"{doc.page_content}\")"
   ]
  },
  {
   "cell_type": "markdown",
   "metadata": {
    "application/vnd.databricks.v1+cell": {
     "cellMetadata": {},
     "inputWidgets": {},
     "nuid": "cd2da49f-b4b1-4617-9ea5-bea2505646ac",
     "showTitle": false,
     "title": ""
    }
   },
   "source": [
    "## OpenAI APIとの連携\n",
    "\n",
    "RAGにて取得した各種データを使用してプロンプトを組み立て、OpenAI APIに送信します。"
   ]
  },
  {
   "cell_type": "code",
   "execution_count": 0,
   "metadata": {
    "application/vnd.databricks.v1+cell": {
     "cellMetadata": {
      "byteLimit": 2048000,
      "rowLimit": 10000
     },
     "inputWidgets": {},
     "nuid": "f5cb43f6-dcb1-44f5-b0a4-aaffa042928b",
     "showTitle": false,
     "title": ""
    }
   },
   "outputs": [],
   "source": [
    "# ChatGPTモデルの初期化\n",
    "chat = ChatOpenAI(\n",
    "    model_name=\"gpt-4\",\n",
    "    temperature=0\n",
    ")\n",
    "\n",
    "# プロンプトテンプレートの作成\n",
    "def create_prompt(retrieval_results, query):\n",
    "    return ChatPromptTemplate.from_messages([\n",
    "        SystemMessage(content=\"あなたは親切なアシスタントです。与えられた情報を元に質問に答えてください。\"),\n",
    "        HumanMessage(content=f\"以下の参考情報を参照して、質問に答えてください。参考情報から回答が判断できない場合は、わからないと回答ください。:\\n\\n\" + \n",
    "                             \"\\n\\n\".join([doc.page_content for doc in retrieval_results[:1]]) +\n",
    "                             f\"\\n\\n質問: {query}\")\n",
    "    ])\n",
    "\n",
    "# 各検索方法のプロンプト作成と表示、APIへの送信\n",
    "search_methods = [\n",
    "    (\"テキスト検索\", bm25_results),\n",
    "    (\"ベクトル検索\", vector_results),\n",
    "    (\"ハイブリッド検索\", hybrid_results),\n",
    "    (\"セマンティックランキング\", reranked_results)\n",
    "]\n",
    "\n",
    "responses = {}\n",
    "\n",
    "for method_name, results in search_methods:\n",
    "    prompt = create_prompt(results, query)\n",
    "    print(f\"\\n{method_name}のプロンプト:\")\n",
    "    print(prompt.format_messages()[1].content)\n",
    "    \n",
    "    # OpenAI APIに送信\n",
    "    response = chat(prompt.format_messages())\n",
    "    responses[method_name] = response.content\n",
    "\n",
    "# RAGなしのプロンプト作成と送信\n",
    "no_rag_prompt = ChatPromptTemplate.from_messages([\n",
    "    SystemMessage(content=\"あなたは親切なアシスタントです。質問に答えてください。わからない場合はわからないと回答ください。\"),\n",
    "    HumanMessage(content=f\"質問: {query}\")\n",
    "])\n",
    "\n",
    "print(\"\\nRAGなしのプロンプト:\")\n",
    "print(no_rag_prompt.format_messages()[1].content)\n",
    "\n",
    "# RAGなしの応答を取得\n",
    "no_rag_response = chat(no_rag_prompt.format_messages())\n",
    "responses[\"RAGなし\"] = no_rag_response.content"
   ]
  },
  {
   "cell_type": "markdown",
   "metadata": {
    "application/vnd.databricks.v1+cell": {
     "cellMetadata": {},
     "inputWidgets": {},
     "nuid": "309c6ce6-5532-45af-9825-16d15c33c5b4",
     "showTitle": false,
     "title": ""
    }
   },
   "source": [
    "## 回答結果比較\n",
    "\n",
    "RAGなしの回答結果と各RAG手法を使用した回答結果を表示します。"
   ]
  },
  {
   "cell_type": "code",
   "execution_count": 0,
   "metadata": {
    "application/vnd.databricks.v1+cell": {
     "cellMetadata": {
      "byteLimit": 2048000,
      "rowLimit": 10000
     },
     "inputWidgets": {},
     "nuid": "315ba0e7-a921-47ee-89d2-6c09e9ac0f11",
     "showTitle": false,
     "title": ""
    }
   },
   "outputs": [],
   "source": [
    "for method, response in responses.items():\n",
    "    print(f\"\\n{method}の回答結果:\")\n",
    "    print(response)"
   ]
  }
 ],
 "metadata": {
  "application/vnd.databricks.v1+notebook": {
   "dashboards": [],
   "environmentMetadata": null,
   "language": "python",
   "notebookMetadata": {
    "pythonIndentUnit": 4
   },
   "notebookName": "03_RAG",
   "widgets": {}
  }
 },
 "nbformat": 4,
 "nbformat_minor": 0
}
