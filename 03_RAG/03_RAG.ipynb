{
 "cells": [
  {
   "cell_type": "markdown",
   "metadata": {
    "application/vnd.databricks.v1+cell": {
     "cellMetadata": {
      "byteLimit": 2048000,
      "rowLimit": 10000
     },
     "inputWidgets": {},
     "nuid": "7b5cab40-d9ba-477a-a1cc-e1cf0c80ae03",
     "showTitle": false,
     "title": ""
    }
   },
   "source": [
    "# RAGの仕組み説明プログラム\n",
    "\n",
    "このノートブックでは、RAG（Retrieval-Augmented Generation）の仕組みを説明するためのプログラムを実装します。\n",
    "Wordファイルからドキュメントを読み込み、テキスト検索、ベクトル検索、ハイブリッド検索、セマンティックランキングの結果を比較し、\n",
    "OpenAI APIと連携してRAGの効果を示します。"
   ]
  },
  {
   "cell_type": "code",
   "execution_count": 0,
   "metadata": {
    "application/vnd.databricks.v1+cell": {
     "cellMetadata": {
      "byteLimit": 2048000,
      "rowLimit": 10000
     },
     "inputWidgets": {},
     "nuid": "a59bef29-4289-40ee-a0a0-4a755d8639cf",
     "showTitle": false,
     "title": ""
    }
   },
   "outputs": [],
   "source": [
    "%pip install docx2txt\n",
    "%pip install --upgrade langchain-community\n",
    "%pip install --upgrade langchain\n",
    "%pip install --upgrade sqlalchemy\n",
    "%pip install sqlalchemy==1.4.46\n",
    "%pip install --upgrade pgvector\n",
    "%pip install faiss-cpu\n",
    "%pip install rank_bm25"
   ]
  },
  {
   "cell_type": "code",
   "execution_count": 0,
   "metadata": {
    "application/vnd.databricks.v1+cell": {
     "cellMetadata": {
      "byteLimit": 2048000,
      "rowLimit": 10000
     },
     "inputWidgets": {},
     "nuid": "59dab27d-140f-452c-8834-05bb76892470",
     "showTitle": false,
     "title": ""
    }
   },
   "outputs": [],
   "source": [
    "# 必要なライブラリのインポート\n",
    "import os\n",
    "from langchain.embeddings import OpenAIEmbeddings\n",
    "from langchain.vectorstores import FAISS\n",
    "from langchain.text_splitter import RecursiveCharacterTextSplitter\n",
    "from langchain.document_loaders import Docx2txtLoader\n",
    "from langchain.retrievers import BM25Retriever\n",
    "from langchain.retrievers import MergerRetriever\n",
    "from langchain.retrievers import EnsembleRetriever\n",
    "from langchain.retrievers.document_compressors import LLMChainExtractor\n",
    "from langchain.chat_models import ChatOpenAI\n",
    "from langchain.prompts import ChatPromptTemplate\n",
    "from langchain.schema import HumanMessage, SystemMessage\n"
   ]
  },
  {
   "cell_type": "markdown",
   "metadata": {
    "application/vnd.databricks.v1+cell": {
     "cellMetadata": {
      "byteLimit": 2048000,
      "rowLimit": 10000
     },
     "inputWidgets": {},
     "nuid": "b9bed8ac-23f9-41cb-b10c-1788fde82f7e",
     "showTitle": false,
     "title": ""
    }
   },
   "source": [
    "## ベクトルストア作成\n",
    "\n",
    "RAGが検索するWordドキュメントを読み込み、ベクトル化します。"
   ]
  },
  {
   "cell_type": "code",
   "execution_count": 0,
   "metadata": {
    "application/vnd.databricks.v1+cell": {
     "cellMetadata": {
      "byteLimit": 2048000,
      "rowLimit": 10000
     },
     "inputWidgets": {},
     "nuid": "3f93394d-fd23-4946-aada-f131ac36fa24",
     "showTitle": false,
     "title": ""
    }
   },
   "outputs": [],
   "source": [
    "# Wordドキュメントの読み込み\n",
    "loader = Docx2txtLoader(\"./profeel.docx\")\n",
    "documents = loader.load()\n",
    "\n",
    "# ドキュメントの分割\n",
    "text_splitter = RecursiveCharacterTextSplitter(chunk_size=512, chunk_overlap=51)  # 10%オーバーラップ\n",
    "texts = text_splitter.split_documents(documents)\n",
    "\n",
    "# ベクトル化\n",
    "embeddings = OpenAIEmbeddings()\n",
    "vectorstore = FAISS.from_documents(texts, embeddings)\n",
    "\n",
    "print(f\"ベクトル化されたドキュメント数: {len(texts)}\")"
   ]
  },
  {
   "cell_type": "markdown",
   "metadata": {
    "application/vnd.databricks.v1+cell": {
     "cellMetadata": {
      "byteLimit": 2048000,
      "rowLimit": 10000
     },
     "inputWidgets": {},
     "nuid": "25feba38-4e57-4793-8ab8-c1ed111cf89a",
     "showTitle": false,
     "title": ""
    }
   },
   "source": [
    "### チャンク分割した内容を確認"
   ]
  },
  {
   "cell_type": "code",
   "execution_count": 0,
   "metadata": {
    "application/vnd.databricks.v1+cell": {
     "cellMetadata": {
      "byteLimit": 2048000,
      "rowLimit": 10000
     },
     "inputWidgets": {},
     "nuid": "c31831fa-b74f-4465-9f8a-8606463c9e05",
     "showTitle": false,
     "title": ""
    }
   },
   "outputs": [],
   "source": [
    "texts[0]"
   ]
  },
  {
   "cell_type": "code",
   "execution_count": 0,
   "metadata": {
    "application/vnd.databricks.v1+cell": {
     "cellMetadata": {
      "byteLimit": 2048000,
      "rowLimit": 10000
     },
     "inputWidgets": {},
     "nuid": "2f69a90f-c466-430d-844d-f4e9155d243c",
     "showTitle": false,
     "title": ""
    }
   },
   "outputs": [],
   "source": [
    "texts[1]"
   ]
  },
  {
   "cell_type": "code",
   "execution_count": 0,
   "metadata": {
    "application/vnd.databricks.v1+cell": {
     "cellMetadata": {
      "byteLimit": 2048000,
      "rowLimit": 10000
     },
     "inputWidgets": {},
     "nuid": "cc4dd3b5-59b7-47e7-84a9-e79fe347e6bd",
     "showTitle": false,
     "title": ""
    }
   },
   "outputs": [],
   "source": [
    "texts[2]"
   ]
  },
  {
   "cell_type": "markdown",
   "metadata": {
    "application/vnd.databricks.v1+cell": {
     "cellMetadata": {
      "byteLimit": 2048000,
      "rowLimit": 10000
     },
     "inputWidgets": {},
     "nuid": "0f4ec1e7-558e-4487-8337-5e088d01dec0",
     "showTitle": false,
     "title": ""
    }
   },
   "source": [
    "## RAGによる検索\n",
    "\n",
    "テキスト検索、ベクトル検索、ハイブリッド検索、セマンティックランキングの結果を取得・表示します。"
   ]
  },
  {
   "cell_type": "code",
   "execution_count": 0,
   "metadata": {
    "application/vnd.databricks.v1+cell": {
     "cellMetadata": {
      "byteLimit": 2048000,
      "rowLimit": 10000
     },
     "inputWidgets": {},
     "nuid": "9fc12fa7-5bd7-46ac-86e7-5d2be6668522",
     "showTitle": false,
     "title": ""
    }
   },
   "outputs": [],
   "source": [
    "# 検索クエリ\n",
    "query = \"小磯さんは製薬会社の時に何をしていましたか？\"\n",
    "query = \"小磯さんは女性向けの薬について何か知ってる？\"\n",
    "\n",
    "\n",
    "# テキスト検索（BM25）\n",
    "bm25_retriever = BM25Retriever.from_documents(texts)\n",
    "bm25_results = bm25_retriever.get_relevant_documents(query)\n",
    "\n",
    "print(\"★1 テキスト検索結果:\")\n",
    "for i, doc in enumerate(bm25_results[:3], 1):\n",
    "    print(f\"{i}. {doc.page_content[:100]}...\")\n",
    "\n",
    "# ベクトル検索\n",
    "vector_results = vectorstore.similarity_search(query)\n",
    "\n",
    "print(\"\\n★2 ベクトル検索結果:\")\n",
    "for i, doc in enumerate(vector_results[:3], 1):\n",
    "    print(f\"{i}. {doc.page_content[:100]}...\")\n",
    "\n",
    "# ハイブリッド検索\n",
    "hybrid_retriever = EnsembleRetriever(\n",
    "    retrievers=[bm25_retriever, vectorstore.as_retriever()],\n",
    "    weights=[0.5, 0.5]\n",
    ")\n",
    "hybrid_results = hybrid_retriever.get_relevant_documents(query)\n",
    "\n",
    "print(\"\\n★3 ハイブリッド検索結果:\")\n",
    "for i, doc in enumerate(hybrid_results[:3], 1):\n",
    "    print(f\"{i}. {doc.page_content[:100]}...\")\n",
    "\n",
    "# セマンティックランカーによる並べ替え\n",
    "llm = ChatOpenAI(temperature=0, model=\"gpt-4\")\n",
    "compressor = LLMChainExtractor.from_llm(llm)\n",
    "reranked_results = compressor.compress_documents(hybrid_results, query)\n",
    "\n",
    "print(\"\\n★4 セマンティックランカーで並べ替えた結果:\")\n",
    "for i, doc in enumerate(reranked_results[:3], 1):\n",
    "    print(f\"{i}. {doc.page_content[:100]}...\")"
   ]
  },
  {
   "cell_type": "markdown",
   "metadata": {
    "application/vnd.databricks.v1+cell": {
     "cellMetadata": {
      "byteLimit": 2048000,
      "rowLimit": 10000
     },
     "inputWidgets": {},
     "nuid": "cd2da49f-b4b1-4617-9ea5-bea2505646ac",
     "showTitle": false,
     "title": ""
    }
   },
   "source": [
    "## OpenAI APIとの連携\n",
    "\n",
    "RAGにて取得した各種データを使用してプロンプトを組み立て、OpenAI APIに送信します。"
   ]
  },
  {
   "cell_type": "code",
   "execution_count": 0,
   "metadata": {
    "application/vnd.databricks.v1+cell": {
     "cellMetadata": {
      "byteLimit": 2048000,
      "rowLimit": 10000
     },
     "inputWidgets": {},
     "nuid": "f5cb43f6-dcb1-44f5-b0a4-aaffa042928b",
     "showTitle": false,
     "title": ""
    }
   },
   "outputs": [],
   "source": [
    "# ChatGPTモデルの初期化\n",
    "chat = ChatOpenAI(\n",
    "    model_name=\"gpt-4\",\n",
    "    temperature=0\n",
    ")\n",
    "\n",
    "# プロンプトテンプレートの作成\n",
    "def create_prompt(retrieval_results, query):\n",
    "    return ChatPromptTemplate.from_messages([\n",
    "        SystemMessage(content=\"あなたは親切なアシスタントです。与えられた情報を元に質問に答えてください。\"),\n",
    "        HumanMessage(content=f\"以下の情報を参考に、質問に答えてください:\\n\\n\" + \n",
    "                             \"\\n\\n\".join([doc.page_content for doc in retrieval_results[:3]]) +\n",
    "                             f\"\\n\\n質問: {query}\")\n",
    "    ])\n",
    "\n",
    "# 各検索方法のプロンプト作成と表示、APIへの送信\n",
    "search_methods = [\n",
    "    (\"テキスト検索\", bm25_results),\n",
    "    (\"ベクトル検索\", vector_results),\n",
    "    (\"ハイブリッド検索\", hybrid_results),\n",
    "    (\"セマンティックランキング\", reranked_results)\n",
    "]\n",
    "\n",
    "responses = {}\n",
    "\n",
    "for method_name, results in search_methods:\n",
    "    prompt = create_prompt(results, query)\n",
    "    print(f\"\\n{method_name}のプロンプト:\")\n",
    "    print(prompt.format_messages()[1].content)\n",
    "    \n",
    "    # OpenAI APIに送信\n",
    "    response = chat(prompt.format_messages())\n",
    "    responses[method_name] = response.content\n",
    "\n",
    "# RAGなしのプロンプト作成と送信\n",
    "no_rag_prompt = ChatPromptTemplate.from_messages([\n",
    "    SystemMessage(content=\"あなたは親切なアシスタントです。質問に答えてください。\"),\n",
    "    HumanMessage(content=f\"質問: {query}\")\n",
    "])\n",
    "\n",
    "print(\"\\nRAGなしのプロンプト:\")\n",
    "print(no_rag_prompt.format_messages()[1].content)\n",
    "\n",
    "# RAGなしの応答を取得\n",
    "no_rag_response = chat(no_rag_prompt.format_messages())\n",
    "responses[\"RAGなし\"] = no_rag_response.content"
   ]
  },
  {
   "cell_type": "markdown",
   "metadata": {
    "application/vnd.databricks.v1+cell": {
     "cellMetadata": {
      "byteLimit": 2048000,
      "rowLimit": 10000
     },
     "inputWidgets": {},
     "nuid": "309c6ce6-5532-45af-9825-16d15c33c5b4",
     "showTitle": false,
     "title": ""
    }
   },
   "source": [
    "## 回答結果比較\n",
    "\n",
    "RAGなしの回答結果と各RAG手法を使用した回答結果を表示します。"
   ]
  },
  {
   "cell_type": "code",
   "execution_count": 0,
   "metadata": {
    "application/vnd.databricks.v1+cell": {
     "cellMetadata": {
      "byteLimit": 2048000,
      "rowLimit": 10000
     },
     "inputWidgets": {},
     "nuid": "315ba0e7-a921-47ee-89d2-6c09e9ac0f11",
     "showTitle": false,
     "title": ""
    }
   },
   "outputs": [],
   "source": [
    "for method, response in responses.items():\n",
    "    print(f\"\\n{method}の回答結果:\")\n",
    "    print(response)"
   ]
  }
 ],
 "metadata": {
  "application/vnd.databricks.v1+notebook": {
   "dashboards": [],
   "environmentMetadata": null,
   "language": "python",
   "notebookMetadata": {
    "pythonIndentUnit": 4
   },
   "notebookName": "03_RAG",
   "widgets": {}
  }
 },
 "nbformat": 4,
 "nbformat_minor": 0
}
